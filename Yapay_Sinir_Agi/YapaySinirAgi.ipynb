{
 "cells": [
  {
   "cell_type": "code",
   "execution_count": 49,
   "metadata": {},
   "outputs": [],
   "source": [
    "import numpy as np"
   ]
  },
  {
   "cell_type": "code",
   "execution_count": 50,
   "metadata": {},
   "outputs": [],
   "source": [
    "import pandas as pd"
   ]
  },
  {
   "cell_type": "code",
   "execution_count": 51,
   "metadata": {},
   "outputs": [],
   "source": [
    "dataset=pd.read_csv('Churn_Modelling.csv')"
   ]
  },
  {
   "cell_type": "code",
   "execution_count": 52,
   "metadata": {},
   "outputs": [],
   "source": [
    "X=dataset.iloc[:,3:13].values"
   ]
  },
  {
   "cell_type": "code",
   "execution_count": 53,
   "metadata": {},
   "outputs": [],
   "source": [
    "y=dataset.iloc[:,13].values"
   ]
  },
  {
   "cell_type": "code",
   "execution_count": 54,
   "metadata": {},
   "outputs": [],
   "source": [
    "from sklearn.preprocessing import LabelEncoder,OneHotEncoder"
   ]
  },
  {
   "cell_type": "code",
   "execution_count": 55,
   "metadata": {},
   "outputs": [],
   "source": [
    "labelencoder_X_1=LabelEncoder()\n",
    "X[:,1]=labelencoder_X_1.fit_transform(X[:,1])\n",
    "labelencoder_X_2=LabelEncoder()\n",
    "X[:,2]=labelencoder_X_2.fit_transform(X[:,2])\n",
    "\n"
   ]
  },
  {
   "cell_type": "code",
   "execution_count": 56,
   "metadata": {},
   "outputs": [
    {
     "name": "stderr",
     "output_type": "stream",
     "text": [
      "C:\\Users\\fatih\\Anaconda3\\lib\\site-packages\\sklearn\\preprocessing\\_encoders.py:415: FutureWarning: The handling of integer data will change in version 0.22. Currently, the categories are determined based on the range [0, max(values)], while in the future they will be determined based on the unique values.\n",
      "If you want the future behaviour and silence this warning, you can specify \"categories='auto'\".\n",
      "In case you used a LabelEncoder before this OneHotEncoder to convert the categories to integers, then you can now use the OneHotEncoder directly.\n",
      "  warnings.warn(msg, FutureWarning)\n",
      "C:\\Users\\fatih\\Anaconda3\\lib\\site-packages\\sklearn\\preprocessing\\_encoders.py:451: DeprecationWarning: The 'categorical_features' keyword is deprecated in version 0.20 and will be removed in 0.22. You can use the ColumnTransformer instead.\n",
      "  \"use the ColumnTransformer instead.\", DeprecationWarning)\n"
     ]
    }
   ],
   "source": [
    "onehotencoder=OneHotEncoder(categorical_features=[1])\n",
    "X=onehotencoder.fit_transform(X).toarray()"
   ]
  },
  {
   "cell_type": "code",
   "execution_count": 57,
   "metadata": {},
   "outputs": [],
   "source": [
    "from sklearn.preprocessing import StandardScaler\n",
    "sc=StandardScaler()\n",
    "X=sc.fit_transform(X)"
   ]
  },
  {
   "cell_type": "code",
   "execution_count": 58,
   "metadata": {},
   "outputs": [],
   "source": [
    "from sklearn.model_selection import train_test_split"
   ]
  },
  {
   "cell_type": "code",
   "execution_count": 59,
   "metadata": {},
   "outputs": [],
   "source": [
    "X_train,X_test,y_train,y_test=train_test_split(X,y,test_size=0.2,random_state=1)"
   ]
  },
  {
   "cell_type": "code",
   "execution_count": 60,
   "metadata": {},
   "outputs": [],
   "source": [
    "###################Yapay Sinir Agi Baslangic"
   ]
  },
  {
   "cell_type": "code",
   "execution_count": 61,
   "metadata": {},
   "outputs": [],
   "source": [
    "#!pip install keras "
   ]
  },
  {
   "cell_type": "code",
   "execution_count": 62,
   "metadata": {},
   "outputs": [],
   "source": [
    "#!pip install TensorFlow"
   ]
  },
  {
   "cell_type": "code",
   "execution_count": 63,
   "metadata": {},
   "outputs": [],
   "source": [
    "from keras.models import Sequential"
   ]
  },
  {
   "cell_type": "code",
   "execution_count": 64,
   "metadata": {},
   "outputs": [],
   "source": [
    "from keras.layers import Dense"
   ]
  },
  {
   "cell_type": "code",
   "execution_count": 65,
   "metadata": {},
   "outputs": [],
   "source": [
    "classifier=Sequential()"
   ]
  },
  {
   "cell_type": "code",
   "execution_count": 66,
   "metadata": {},
   "outputs": [],
   "source": [
    "classifier.add(Dense(units = 6, kernel_initializer = 'uniform', activation = 'relu', input_dim = 12))\n",
    "#uniform, agirliklarin 0 yakin random olarak verilmesini saglar"
   ]
  },
  {
   "cell_type": "code",
   "execution_count": 67,
   "metadata": {},
   "outputs": [],
   "source": [
    "classifier.add(Dense(units = 6, kernel_initializer = 'uniform', activation = 'relu'))"
   ]
  },
  {
   "cell_type": "code",
   "execution_count": 68,
   "metadata": {},
   "outputs": [],
   "source": [
    "classifier.add(Dense(units = 1, kernel_initializer = 'uniform', activation = 'sigmoid'))\n",
    "#0 ve 1 gibi 2 sinif varken output icin sigmoid kullanmak daha avantajli, diger turlu softmax kullanmali"
   ]
  },
  {
   "cell_type": "code",
   "execution_count": 69,
   "metadata": {},
   "outputs": [],
   "source": [
    "classifier.compile(optimizer = 'adam', loss = 'binary_crossentropy', metrics = ['accuracy'])\n",
    "#loss function da 2 deger oldugu icin binary, 2 den fazla olsaydi cross entropi olcakti."
   ]
  },
  {
   "cell_type": "code",
   "execution_count": 70,
   "metadata": {},
   "outputs": [
    {
     "name": "stdout",
     "output_type": "stream",
     "text": [
      "Epoch 1/100\n",
      "8000/8000 [==============================] - 1s 168us/step - loss: 0.5028 - accuracy: 0.7970\n",
      "Epoch 2/100\n",
      "8000/8000 [==============================] - 1s 137us/step - loss: 0.3941 - accuracy: 0.8174\n",
      "Epoch 3/100\n",
      "8000/8000 [==============================] - 1s 139us/step - loss: 0.3718 - accuracy: 0.8221\n",
      "Epoch 4/100\n",
      "8000/8000 [==============================] - 1s 142us/step - loss: 0.3631 - accuracy: 0.8244\n",
      "Epoch 5/100\n",
      "8000/8000 [==============================] - 1s 141us/step - loss: 0.3597 - accuracy: 0.8530\n",
      "Epoch 6/100\n",
      "8000/8000 [==============================] - 1s 138us/step - loss: 0.3569 - accuracy: 0.8550\n",
      "Epoch 7/100\n",
      "8000/8000 [==============================] - 1s 140us/step - loss: 0.3535 - accuracy: 0.8574\n",
      "Epoch 8/100\n",
      "8000/8000 [==============================] - 1s 144us/step - loss: 0.3525 - accuracy: 0.8604\n",
      "Epoch 9/100\n",
      "8000/8000 [==============================] - 1s 143us/step - loss: 0.3504 - accuracy: 0.8585\n",
      "Epoch 10/100\n",
      "8000/8000 [==============================] - 1s 145us/step - loss: 0.3499 - accuracy: 0.8577\n",
      "Epoch 11/100\n",
      "8000/8000 [==============================] - 1s 143us/step - loss: 0.3485 - accuracy: 0.8605\n",
      "Epoch 12/100\n",
      "8000/8000 [==============================] - 1s 145us/step - loss: 0.3478 - accuracy: 0.8600\n",
      "Epoch 13/100\n",
      "8000/8000 [==============================] - 1s 163us/step - loss: 0.3470 - accuracy: 0.8594\n",
      "Epoch 14/100\n",
      "8000/8000 [==============================] - 1s 153us/step - loss: 0.3471 - accuracy: 0.8587\n",
      "Epoch 15/100\n",
      "8000/8000 [==============================] - 1s 173us/step - loss: 0.3460 - accuracy: 0.8597\n",
      "Epoch 16/100\n",
      "8000/8000 [==============================] - 1s 159us/step - loss: 0.3455 - accuracy: 0.8606\n",
      "Epoch 17/100\n",
      "8000/8000 [==============================] - 1s 155us/step - loss: 0.3451 - accuracy: 0.8616\n",
      "Epoch 18/100\n",
      "8000/8000 [==============================] - 1s 168us/step - loss: 0.3442 - accuracy: 0.8584\n",
      "Epoch 19/100\n",
      "8000/8000 [==============================] - 1s 162us/step - loss: 0.3441 - accuracy: 0.8602\n",
      "Epoch 20/100\n",
      "8000/8000 [==============================] - 1s 158us/step - loss: 0.3447 - accuracy: 0.8594\n",
      "Epoch 21/100\n",
      "8000/8000 [==============================] - 1s 161us/step - loss: 0.3438 - accuracy: 0.8615\n",
      "Epoch 22/100\n",
      "8000/8000 [==============================] - 1s 159us/step - loss: 0.3436 - accuracy: 0.8590\n",
      "Epoch 23/100\n",
      "8000/8000 [==============================] - 1s 151us/step - loss: 0.3435 - accuracy: 0.8596\n",
      "Epoch 24/100\n",
      "8000/8000 [==============================] - 1s 152us/step - loss: 0.3431 - accuracy: 0.8616\n",
      "Epoch 25/100\n",
      "8000/8000 [==============================] - 1s 142us/step - loss: 0.3432 - accuracy: 0.8602\n",
      "Epoch 26/100\n",
      "8000/8000 [==============================] - 1s 139us/step - loss: 0.3427 - accuracy: 0.8606\n",
      "Epoch 27/100\n",
      "8000/8000 [==============================] - 1s 149us/step - loss: 0.3422 - accuracy: 0.8602\n",
      "Epoch 28/100\n",
      "8000/8000 [==============================] - 1s 142us/step - loss: 0.3418 - accuracy: 0.8620\n",
      "Epoch 29/100\n",
      "8000/8000 [==============================] - 1s 149us/step - loss: 0.3408 - accuracy: 0.8585\n",
      "Epoch 30/100\n",
      "8000/8000 [==============================] - 1s 141us/step - loss: 0.3408 - accuracy: 0.8612\n",
      "Epoch 31/100\n",
      "8000/8000 [==============================] - 1s 146us/step - loss: 0.3393 - accuracy: 0.8631\n",
      "Epoch 32/100\n",
      "8000/8000 [==============================] - 1s 141us/step - loss: 0.3389 - accuracy: 0.8605\n",
      "Epoch 33/100\n",
      "8000/8000 [==============================] - 1s 141us/step - loss: 0.3388 - accuracy: 0.8626\n",
      "Epoch 34/100\n",
      "8000/8000 [==============================] - 1s 141us/step - loss: 0.3389 - accuracy: 0.8637\n",
      "Epoch 35/100\n",
      "8000/8000 [==============================] - 1s 137us/step - loss: 0.3385 - accuracy: 0.8609\n",
      "Epoch 36/100\n",
      "8000/8000 [==============================] - 1s 141us/step - loss: 0.3379 - accuracy: 0.8610\n",
      "Epoch 37/100\n",
      "8000/8000 [==============================] - 1s 151us/step - loss: 0.3378 - accuracy: 0.8627\n",
      "Epoch 38/100\n",
      "8000/8000 [==============================] - 1s 153us/step - loss: 0.3374 - accuracy: 0.8622\n",
      "Epoch 39/100\n",
      "8000/8000 [==============================] - 1s 154us/step - loss: 0.3371 - accuracy: 0.8609\n",
      "Epoch 40/100\n",
      "8000/8000 [==============================] - 1s 150us/step - loss: 0.3378 - accuracy: 0.8616\n",
      "Epoch 41/100\n",
      "8000/8000 [==============================] - 1s 153us/step - loss: 0.3372 - accuracy: 0.8626\n",
      "Epoch 42/100\n",
      "8000/8000 [==============================] - 1s 153us/step - loss: 0.3372 - accuracy: 0.8616\n",
      "Epoch 43/100\n",
      "8000/8000 [==============================] - 1s 151us/step - loss: 0.3369 - accuracy: 0.8629\n",
      "Epoch 44/100\n",
      "8000/8000 [==============================] - 1s 141us/step - loss: 0.3368 - accuracy: 0.8612\n",
      "Epoch 45/100\n",
      "8000/8000 [==============================] - 1s 142us/step - loss: 0.3365 - accuracy: 0.8624\n",
      "Epoch 46/100\n",
      "8000/8000 [==============================] - 1s 145us/step - loss: 0.3363 - accuracy: 0.8629\n",
      "Epoch 47/100\n",
      "8000/8000 [==============================] - 1s 143us/step - loss: 0.3366 - accuracy: 0.8622\n",
      "Epoch 48/100\n",
      "8000/8000 [==============================] - 1s 142us/step - loss: 0.3365 - accuracy: 0.8616\n",
      "Epoch 49/100\n",
      "8000/8000 [==============================] - 1s 145us/step - loss: 0.3363 - accuracy: 0.8624\n",
      "Epoch 50/100\n",
      "8000/8000 [==============================] - 1s 145us/step - loss: 0.3364 - accuracy: 0.8619\n",
      "Epoch 51/100\n",
      "8000/8000 [==============================] - 1s 144us/step - loss: 0.3364 - accuracy: 0.8616\n",
      "Epoch 52/100\n",
      "8000/8000 [==============================] - 1s 145us/step - loss: 0.3359 - accuracy: 0.8606\n",
      "Epoch 53/100\n",
      "8000/8000 [==============================] - 1s 145us/step - loss: 0.3356 - accuracy: 0.8629\n",
      "Epoch 54/100\n",
      "8000/8000 [==============================] - 1s 156us/step - loss: 0.3352 - accuracy: 0.8630\n",
      "Epoch 55/100\n",
      "8000/8000 [==============================] - 1s 153us/step - loss: 0.3356 - accuracy: 0.8621\n",
      "Epoch 56/100\n",
      "8000/8000 [==============================] - 1s 152us/step - loss: 0.3355 - accuracy: 0.8619\n",
      "Epoch 57/100\n",
      "8000/8000 [==============================] - 1s 152us/step - loss: 0.3358 - accuracy: 0.8624\n",
      "Epoch 58/100\n",
      "8000/8000 [==============================] - 1s 152us/step - loss: 0.3355 - accuracy: 0.8619\n",
      "Epoch 59/100\n",
      "8000/8000 [==============================] - 1s 142us/step - loss: 0.3349 - accuracy: 0.8624\n",
      "Epoch 60/100\n",
      "8000/8000 [==============================] - 1s 143us/step - loss: 0.3350 - accuracy: 0.8624\n",
      "Epoch 61/100\n",
      "8000/8000 [==============================] - 1s 142us/step - loss: 0.3348 - accuracy: 0.8621\n",
      "Epoch 62/100\n",
      "8000/8000 [==============================] - 1s 141us/step - loss: 0.3357 - accuracy: 0.8622\n",
      "Epoch 63/100\n",
      "8000/8000 [==============================] - 1s 141us/step - loss: 0.3345 - accuracy: 0.8651\n",
      "Epoch 64/100\n",
      "8000/8000 [==============================] - 1s 141us/step - loss: 0.3349 - accuracy: 0.8616\n",
      "Epoch 65/100\n",
      "8000/8000 [==============================] - 1s 145us/step - loss: 0.3350 - accuracy: 0.8627\n",
      "Epoch 66/100\n",
      "8000/8000 [==============================] - 1s 141us/step - loss: 0.3343 - accuracy: 0.8621\n",
      "Epoch 67/100\n",
      "8000/8000 [==============================] - 1s 142us/step - loss: 0.3349 - accuracy: 0.8624\n",
      "Epoch 68/100\n",
      "8000/8000 [==============================] - 1s 143us/step - loss: 0.3350 - accuracy: 0.8616\n",
      "Epoch 69/100\n",
      "8000/8000 [==============================] - 1s 142us/step - loss: 0.3344 - accuracy: 0.8627\n",
      "Epoch 70/100\n",
      "8000/8000 [==============================] - 1s 142us/step - loss: 0.3345 - accuracy: 0.8616\n",
      "Epoch 71/100\n",
      "8000/8000 [==============================] - 1s 144us/step - loss: 0.3343 - accuracy: 0.8625\n",
      "Epoch 72/100\n",
      "8000/8000 [==============================] - 1s 144us/step - loss: 0.3343 - accuracy: 0.8610\n",
      "Epoch 73/100\n",
      "8000/8000 [==============================] - 1s 146us/step - loss: 0.3342 - accuracy: 0.8614\n",
      "Epoch 74/100\n",
      "8000/8000 [==============================] - 1s 147us/step - loss: 0.3334 - accuracy: 0.8639\n",
      "Epoch 75/100\n",
      "8000/8000 [==============================] - 1s 143us/step - loss: 0.3343 - accuracy: 0.8634\n",
      "Epoch 76/100\n",
      "8000/8000 [==============================] - 1s 143us/step - loss: 0.3347 - accuracy: 0.8621\n",
      "Epoch 77/100\n",
      "8000/8000 [==============================] - 1s 143us/step - loss: 0.3346 - accuracy: 0.8600\n",
      "Epoch 78/100\n"
     ]
    },
    {
     "name": "stdout",
     "output_type": "stream",
     "text": [
      "8000/8000 [==============================] - 1s 136us/step - loss: 0.3342 - accuracy: 0.8616\n",
      "Epoch 79/100\n",
      "8000/8000 [==============================] - 1s 135us/step - loss: 0.3348 - accuracy: 0.8622\n",
      "Epoch 80/100\n",
      "8000/8000 [==============================] - 1s 134us/step - loss: 0.3340 - accuracy: 0.8631\n",
      "Epoch 81/100\n",
      "8000/8000 [==============================] - 1s 135us/step - loss: 0.3346 - accuracy: 0.8618\n",
      "Epoch 82/100\n",
      "8000/8000 [==============================] - 1s 134us/step - loss: 0.3334 - accuracy: 0.8626\n",
      "Epoch 83/100\n",
      "8000/8000 [==============================] - 1s 136us/step - loss: 0.3348 - accuracy: 0.8639\n",
      "Epoch 84/100\n",
      "8000/8000 [==============================] - 1s 135us/step - loss: 0.3341 - accuracy: 0.8615\n",
      "Epoch 85/100\n",
      "8000/8000 [==============================] - 1s 134us/step - loss: 0.3345 - accuracy: 0.8625\n",
      "Epoch 86/100\n",
      "8000/8000 [==============================] - 1s 136us/step - loss: 0.3336 - accuracy: 0.8629\n",
      "Epoch 87/100\n",
      "8000/8000 [==============================] - 1s 135us/step - loss: 0.3341 - accuracy: 0.8608\n",
      "Epoch 88/100\n",
      "8000/8000 [==============================] - 1s 135us/step - loss: 0.3341 - accuracy: 0.8624\n",
      "Epoch 89/100\n",
      "8000/8000 [==============================] - 1s 135us/step - loss: 0.3339 - accuracy: 0.8616\n",
      "Epoch 90/100\n",
      "8000/8000 [==============================] - 1s 135us/step - loss: 0.3337 - accuracy: 0.8627\n",
      "Epoch 91/100\n",
      "8000/8000 [==============================] - 1s 133us/step - loss: 0.3336 - accuracy: 0.8626\n",
      "Epoch 92/100\n",
      "8000/8000 [==============================] - 1s 135us/step - loss: 0.3335 - accuracy: 0.8631\n",
      "Epoch 93/100\n",
      "8000/8000 [==============================] - 1s 133us/step - loss: 0.3339 - accuracy: 0.8630\n",
      "Epoch 94/100\n",
      "8000/8000 [==============================] - 1s 136us/step - loss: 0.3334 - accuracy: 0.8637\n",
      "Epoch 95/100\n",
      "8000/8000 [==============================] - 1s 135us/step - loss: 0.3335 - accuracy: 0.8634\n",
      "Epoch 96/100\n",
      "8000/8000 [==============================] - 1s 135us/step - loss: 0.3337 - accuracy: 0.8625\n",
      "Epoch 97/100\n",
      "8000/8000 [==============================] - 1s 146us/step - loss: 0.3337 - accuracy: 0.8622\n",
      "Epoch 98/100\n",
      "8000/8000 [==============================] - 1s 144us/step - loss: 0.3336 - accuracy: 0.8631\n",
      "Epoch 99/100\n",
      "8000/8000 [==============================] - 1s 145us/step - loss: 0.3331 - accuracy: 0.8612\n",
      "Epoch 100/100\n",
      "8000/8000 [==============================] - 1s 144us/step - loss: 0.3334 - accuracy: 0.8637\n"
     ]
    },
    {
     "data": {
      "text/plain": [
       "<keras.callbacks.callbacks.History at 0x1ff0726d470>"
      ]
     },
     "execution_count": 70,
     "metadata": {},
     "output_type": "execute_result"
    }
   ],
   "source": [
    "classifier.fit(X_train, y_train, batch_size = 10, epochs = 100, shuffle = True)\n"
   ]
  },
  {
   "cell_type": "code",
   "execution_count": 71,
   "metadata": {},
   "outputs": [],
   "source": [
    "y_pred = classifier.predict(X_test)\n",
    "y_pred = (y_pred > 0.5) #0.5 den kucuk olanlari false kabul ediyor."
   ]
  },
  {
   "cell_type": "code",
   "execution_count": 72,
   "metadata": {},
   "outputs": [],
   "source": [
    "from sklearn.metrics import confusion_matrix\n",
    "cm = confusion_matrix(y_test, y_pred)"
   ]
  },
  {
   "cell_type": "code",
   "execution_count": 73,
   "metadata": {},
   "outputs": [
    {
     "name": "stdout",
     "output_type": "stream",
     "text": [
      "[[1538   47]\n",
      " [ 225  190]]\n"
     ]
    }
   ],
   "source": [
    "print(cm)"
   ]
  },
  {
   "cell_type": "code",
   "execution_count": 74,
   "metadata": {},
   "outputs": [
    {
     "name": "stdout",
     "output_type": "stream",
     "text": [
      "[[False]\n",
      " [False]\n",
      " [False]\n",
      " ...\n",
      " [False]\n",
      " [False]\n",
      " [False]]\n"
     ]
    }
   ],
   "source": [
    "print(y_pred)"
   ]
  },
  {
   "cell_type": "code",
   "execution_count": null,
   "metadata": {},
   "outputs": [],
   "source": []
  }
 ],
 "metadata": {
  "kernelspec": {
   "display_name": "Python 3",
   "language": "python",
   "name": "python3"
  },
  "language_info": {
   "codemirror_mode": {
    "name": "ipython",
    "version": 3
   },
   "file_extension": ".py",
   "mimetype": "text/x-python",
   "name": "python",
   "nbconvert_exporter": "python",
   "pygments_lexer": "ipython3",
   "version": "3.7.3"
  }
 },
 "nbformat": 4,
 "nbformat_minor": 2
}
