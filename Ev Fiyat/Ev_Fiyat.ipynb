{
 "cells": [
  {
   "cell_type": "code",
   "execution_count": 2,
   "metadata": {},
   "outputs": [],
   "source": [
    "import numpy as np\n"
   ]
  },
  {
   "cell_type": "code",
   "execution_count": 3,
   "metadata": {},
   "outputs": [],
   "source": [
    "import pandas as pd"
   ]
  },
  {
   "cell_type": "code",
   "execution_count": 4,
   "metadata": {},
   "outputs": [],
   "source": [
    "dataset=pd.read_csv('kc_house_data.csv')\n"
   ]
  },
  {
   "cell_type": "code",
   "execution_count": 5,
   "metadata": {},
   "outputs": [],
   "source": [
    "X=dataset.iloc[:,3:15].values"
   ]
  },
  {
   "cell_type": "code",
   "execution_count": 7,
   "metadata": {},
   "outputs": [],
   "source": [
    "X=np.append(X,dataset.iloc[:,17:21].values,axis=1)"
   ]
  },
  {
   "cell_type": "code",
   "execution_count": 8,
   "metadata": {},
   "outputs": [],
   "source": [
    "y=dataset.iloc[:,2].values\n",
    "#2. kolon da class olarak alınıyor"
   ]
  },
  {
   "cell_type": "code",
   "execution_count": 9,
   "metadata": {},
   "outputs": [],
   "source": [
    "from sklearn.model_selection import train_test_split"
   ]
  },
  {
   "cell_type": "code",
   "execution_count": 10,
   "metadata": {},
   "outputs": [],
   "source": [
    "X_train,X_test,y_train,y_test=train_test_split(X,y,test_size=0.25,shuffle=True,random_state=1)\n",
    "##fonksiyonumz 4 adet değer döndürüyor."
   ]
  },
  {
   "cell_type": "code",
   "execution_count": 12,
   "metadata": {},
   "outputs": [
    {
     "name": "stdout",
     "output_type": "stream",
     "text": [
      "[[ 3.00000e+00  1.00000e+00  1.01000e+03 ... -1.21773e+02  1.37000e+03\n",
      "   9.50000e+03]\n",
      " [ 3.00000e+00  2.50000e+00  2.11000e+03 ... -1.22153e+02  2.11000e+03\n",
      "   4.04400e+03]\n",
      " [ 3.00000e+00  3.50000e+00  3.03000e+03 ... -1.22381e+02  2.34000e+03\n",
      "   1.05600e+04]\n",
      " ...\n",
      " [ 3.00000e+00  1.75000e+00  1.97000e+03 ... -1.22012e+02  2.46000e+03\n",
      "   3.66770e+04]\n",
      " [ 3.00000e+00  2.25000e+00  1.98000e+03 ... -1.22359e+02  1.55000e+03\n",
      "   9.24000e+03]\n",
      " [ 5.00000e+00  4.00000e+00  3.76000e+03 ... -1.22183e+02  3.43000e+03\n",
      "   3.50960e+04]]\n"
     ]
    }
   ],
   "source": [
    "print(X_train)"
   ]
  },
  {
   "cell_type": "code",
   "execution_count": 13,
   "metadata": {},
   "outputs": [
    {
     "name": "stdout",
     "output_type": "stream",
     "text": [
      "[[ 4.00000e+00  2.75000e+00  2.79000e+03 ... -1.22109e+02  2.90000e+03\n",
      "   6.75200e+03]\n",
      " [ 3.00000e+00  2.25000e+00  1.63000e+03 ... -1.22232e+02  1.62000e+03\n",
      "   7.42900e+03]\n",
      " [ 2.00000e+00  1.50000e+00  2.37000e+03 ... -1.21778e+02  3.86000e+03\n",
      "   1.51081e+05]\n",
      " ...\n",
      " [ 3.00000e+00  2.50000e+00  2.61000e+03 ... -1.22137e+02  2.61000e+03\n",
      "   8.45800e+03]\n",
      " [ 3.00000e+00  1.00000e+00  1.22000e+03 ... -1.22023e+02  1.64000e+03\n",
      "   5.35780e+04]\n",
      " [ 2.00000e+00  1.50000e+00  1.23000e+03 ... -1.22314e+02  1.35200e+03\n",
      "   1.41100e+03]]\n"
     ]
    }
   ],
   "source": [
    "print(X_test)"
   ]
  },
  {
   "cell_type": "code",
   "execution_count": 14,
   "metadata": {},
   "outputs": [
    {
     "name": "stdout",
     "output_type": "stream",
     "text": [
      "[ 290000.  345950.  700000. ...  650000.  437000. 1025000.]\n"
     ]
    }
   ],
   "source": [
    "print(y_train)"
   ]
  },
  {
   "cell_type": "code",
   "execution_count": 15,
   "metadata": {},
   "outputs": [
    {
     "name": "stdout",
     "output_type": "stream",
     "text": [
      "[ 459000.  445000. 1057000. ...  725000.  253500.  324950.]\n"
     ]
    }
   ],
   "source": [
    "print(y_test)"
   ]
  },
  {
   "cell_type": "code",
   "execution_count": null,
   "metadata": {},
   "outputs": [],
   "source": []
  }
 ],
 "metadata": {
  "kernelspec": {
   "display_name": "Python 3",
   "language": "python",
   "name": "python3"
  },
  "language_info": {
   "codemirror_mode": {
    "name": "ipython",
    "version": 3
   },
   "file_extension": ".py",
   "mimetype": "text/x-python",
   "name": "python",
   "nbconvert_exporter": "python",
   "pygments_lexer": "ipython3",
   "version": "3.7.3"
  }
 },
 "nbformat": 4,
 "nbformat_minor": 2
}
