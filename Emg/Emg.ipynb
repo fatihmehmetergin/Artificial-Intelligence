{
 "cells": [
  {
   "cell_type": "code",
   "execution_count": 23,
   "metadata": {},
   "outputs": [],
   "source": [
    "import numpy as np"
   ]
  },
  {
   "cell_type": "code",
   "execution_count": 24,
   "metadata": {},
   "outputs": [],
   "source": [
    "import pandas as pd"
   ]
  },
  {
   "cell_type": "code",
   "execution_count": 25,
   "metadata": {},
   "outputs": [],
   "source": [
    "dataset=pd.read_csv('Emg_kucuk_dataset.csv')"
   ]
  },
  {
   "cell_type": "code",
   "execution_count": 26,
   "metadata": {},
   "outputs": [],
   "source": [
    "X=dataset.iloc[:,1:5].values"
   ]
  },
  {
   "cell_type": "code",
   "execution_count": 27,
   "metadata": {},
   "outputs": [],
   "source": [
    "y=dataset.iloc[:,5].values"
   ]
  },
  {
   "cell_type": "code",
   "execution_count": 28,
   "metadata": {},
   "outputs": [],
   "source": [
    "from sklearn.preprocessing import LabelEncoder"
   ]
  },
  {
   "cell_type": "code",
   "execution_count": 29,
   "metadata": {},
   "outputs": [],
   "source": [
    "labelencoder_y_1=LabelEncoder()\n",
    "y=labelencoder_y_1.fit_transform(y) #encoding categorical data to Numerical Data"
   ]
  },
  {
   "cell_type": "code",
   "execution_count": 30,
   "metadata": {},
   "outputs": [],
   "source": [
    "from sklearn.preprocessing import StandardScaler\n",
    "sc=StandardScaler()\n",
    "X=sc.fit_transform(X) \n",
    "#baskın çıkacabilecek değerleri bertaraf "
   ]
  },
  {
   "cell_type": "code",
   "execution_count": 31,
   "metadata": {},
   "outputs": [],
   "source": [
    "from sklearn.model_selection import train_test_split"
   ]
  },
  {
   "cell_type": "code",
   "execution_count": 32,
   "metadata": {},
   "outputs": [],
   "source": [
    "X_train,X_test,y_train,y_test=train_test_split(X,y,test_size=0.25,random_state=1)"
   ]
  },
  {
   "cell_type": "code",
   "execution_count": 33,
   "metadata": {},
   "outputs": [],
   "source": [
    "#!pip install keras #YAPAY SINIR AGI BASLANGIC"
   ]
  },
  {
   "cell_type": "code",
   "execution_count": 34,
   "metadata": {},
   "outputs": [],
   "source": [
    "#pip install TensorFlow"
   ]
  },
  {
   "cell_type": "code",
   "execution_count": 35,
   "metadata": {},
   "outputs": [],
   "source": [
    "\n",
    "from keras.models import Sequential"
   ]
  },
  {
   "cell_type": "code",
   "execution_count": 36,
   "metadata": {},
   "outputs": [],
   "source": [
    "from keras.layers import Dense"
   ]
  },
  {
   "cell_type": "code",
   "execution_count": 37,
   "metadata": {},
   "outputs": [],
   "source": [
    "classifier=Sequential()\n"
   ]
  },
  {
   "cell_type": "code",
   "execution_count": 43,
   "metadata": {},
   "outputs": [],
   "source": [
    "classifier.add(Dense(units = 3, kernel_initializer = 'uniform', activation = 'relu', input_dim = 4))"
   ]
  },
  {
   "cell_type": "code",
   "execution_count": 44,
   "metadata": {},
   "outputs": [],
   "source": [
    "classifier.add(Dense(units = 3, kernel_initializer = 'uniform', activation = 'relu'))"
   ]
  },
  {
   "cell_type": "code",
   "execution_count": 45,
   "metadata": {},
   "outputs": [],
   "source": [
    "classifier.add(Dense(units = 1, kernel_initializer = 'uniform', activation = 'sigmoid'))"
   ]
  },
  {
   "cell_type": "code",
   "execution_count": 46,
   "metadata": {},
   "outputs": [],
   "source": [
    "classifier.compile(optimizer = 'adam', loss = 'binary_crossentropy', metrics = ['accuracy'])"
   ]
  },
  {
   "cell_type": "code",
   "execution_count": 47,
   "metadata": {},
   "outputs": [
    {
     "name": "stdout",
     "output_type": "stream",
     "text": [
      "Epoch 1/100\n",
      "112/112 [==============================] - 0s 3ms/step - loss: 0.6932 - accuracy: 0.4732\n",
      "Epoch 2/100\n",
      "112/112 [==============================] - 0s 250us/step - loss: 0.6931 - accuracy: 0.5089\n",
      "Epoch 3/100\n",
      "112/112 [==============================] - 0s 306us/step - loss: 0.6931 - accuracy: 0.5089\n",
      "Epoch 4/100\n",
      "112/112 [==============================] - 0s 268us/step - loss: 0.6931 - accuracy: 0.5089\n",
      "Epoch 5/100\n",
      "112/112 [==============================] - 0s 286us/step - loss: 0.6931 - accuracy: 0.5089\n",
      "Epoch 6/100\n",
      "112/112 [==============================] - 0s 286us/step - loss: 0.6931 - accuracy: 0.5089\n",
      "Epoch 7/100\n",
      "112/112 [==============================] - 0s 286us/step - loss: 0.6931 - accuracy: 0.5089\n",
      "Epoch 8/100\n",
      "112/112 [==============================] - 0s 268us/step - loss: 0.6931 - accuracy: 0.5089\n",
      "Epoch 9/100\n",
      "112/112 [==============================] - 0s 312us/step - loss: 0.6931 - accuracy: 0.5089\n",
      "Epoch 10/100\n",
      "112/112 [==============================] - 0s 286us/step - loss: 0.6932 - accuracy: 0.5089\n",
      "Epoch 11/100\n",
      "112/112 [==============================] - 0s 295us/step - loss: 0.6931 - accuracy: 0.5089\n",
      "Epoch 12/100\n",
      "112/112 [==============================] - 0s 268us/step - loss: 0.6931 - accuracy: 0.5089\n",
      "Epoch 13/100\n",
      "112/112 [==============================] - 0s 295us/step - loss: 0.6931 - accuracy: 0.5089\n",
      "Epoch 14/100\n",
      "112/112 [==============================] - 0s 286us/step - loss: 0.6931 - accuracy: 0.5089\n",
      "Epoch 15/100\n",
      "112/112 [==============================] - 0s 321us/step - loss: 0.6931 - accuracy: 0.5089\n",
      "Epoch 16/100\n",
      "112/112 [==============================] - 0s 295us/step - loss: 0.6931 - accuracy: 0.5089\n",
      "Epoch 17/100\n",
      "112/112 [==============================] - 0s 268us/step - loss: 0.6931 - accuracy: 0.5089\n",
      "Epoch 18/100\n",
      "112/112 [==============================] - 0s 268us/step - loss: 0.6931 - accuracy: 0.5089\n",
      "Epoch 19/100\n",
      "112/112 [==============================] - 0s 268us/step - loss: 0.6931 - accuracy: 0.5089\n",
      "Epoch 20/100\n",
      "112/112 [==============================] - 0s 268us/step - loss: 0.6931 - accuracy: 0.5089\n",
      "Epoch 21/100\n",
      "112/112 [==============================] - 0s 277us/step - loss: 0.6931 - accuracy: 0.5089\n",
      "Epoch 22/100\n",
      "112/112 [==============================] - 0s 295us/step - loss: 0.6931 - accuracy: 0.5089\n",
      "Epoch 23/100\n",
      "112/112 [==============================] - 0s 286us/step - loss: 0.6931 - accuracy: 0.5089\n",
      "Epoch 24/100\n",
      "112/112 [==============================] - 0s 304us/step - loss: 0.6931 - accuracy: 0.5089\n",
      "Epoch 25/100\n",
      "112/112 [==============================] - ETA: 0s - loss: 0.6932 - accuracy: 0.50 - 0s 304us/step - loss: 0.6930 - accuracy: 0.5089\n",
      "Epoch 26/100\n",
      "112/112 [==============================] - 0s 277us/step - loss: 0.6930 - accuracy: 0.5089\n",
      "Epoch 27/100\n",
      "112/112 [==============================] - 0s 286us/step - loss: 0.6930 - accuracy: 0.5089\n",
      "Epoch 28/100\n",
      "112/112 [==============================] - 0s 286us/step - loss: 0.6930 - accuracy: 0.5089\n",
      "Epoch 29/100\n",
      "112/112 [==============================] - 0s 250us/step - loss: 0.6930 - accuracy: 0.5089\n",
      "Epoch 30/100\n",
      "112/112 [==============================] - 0s 250us/step - loss: 0.6930 - accuracy: 0.5089\n",
      "Epoch 31/100\n",
      "112/112 [==============================] - 0s 295us/step - loss: 0.6931 - accuracy: 0.5089\n",
      "Epoch 32/100\n",
      "112/112 [==============================] - 0s 241us/step - loss: 0.6930 - accuracy: 0.5089\n",
      "Epoch 33/100\n",
      "112/112 [==============================] - 0s 250us/step - loss: 0.6930 - accuracy: 0.5089\n",
      "Epoch 34/100\n",
      "112/112 [==============================] - 0s 295us/step - loss: 0.6930 - accuracy: 0.5089\n",
      "Epoch 35/100\n",
      "112/112 [==============================] - 0s 250us/step - loss: 0.6930 - accuracy: 0.5089\n",
      "Epoch 36/100\n",
      "112/112 [==============================] - 0s 241us/step - loss: 0.6930 - accuracy: 0.5089\n",
      "Epoch 37/100\n",
      "112/112 [==============================] - 0s 250us/step - loss: 0.6930 - accuracy: 0.5089\n",
      "Epoch 38/100\n",
      "112/112 [==============================] - 0s 259us/step - loss: 0.6930 - accuracy: 0.5089\n",
      "Epoch 39/100\n",
      "112/112 [==============================] - 0s 250us/step - loss: 0.6930 - accuracy: 0.5089\n",
      "Epoch 40/100\n",
      "112/112 [==============================] - 0s 312us/step - loss: 0.6930 - accuracy: 0.5089\n",
      "Epoch 41/100\n",
      "112/112 [==============================] - 0s 277us/step - loss: 0.6930 - accuracy: 0.5089\n",
      "Epoch 42/100\n",
      "112/112 [==============================] - 0s 268us/step - loss: 0.6931 - accuracy: 0.5089\n",
      "Epoch 43/100\n",
      "112/112 [==============================] - 0s 277us/step - loss: 0.6930 - accuracy: 0.5089\n",
      "Epoch 44/100\n",
      "112/112 [==============================] - 0s 277us/step - loss: 0.6930 - accuracy: 0.5089\n",
      "Epoch 45/100\n",
      "112/112 [==============================] - 0s 232us/step - loss: 0.6930 - accuracy: 0.5089\n",
      "Epoch 46/100\n",
      "112/112 [==============================] - 0s 277us/step - loss: 0.6930 - accuracy: 0.5089\n",
      "Epoch 47/100\n",
      "112/112 [==============================] - 0s 250us/step - loss: 0.6930 - accuracy: 0.5089\n",
      "Epoch 48/100\n",
      "112/112 [==============================] - 0s 295us/step - loss: 0.6930 - accuracy: 0.5089\n",
      "Epoch 49/100\n",
      "112/112 [==============================] - 0s 286us/step - loss: 0.6930 - accuracy: 0.5089\n",
      "Epoch 50/100\n",
      "112/112 [==============================] - 0s 250us/step - loss: 0.6930 - accuracy: 0.5089\n",
      "Epoch 51/100\n",
      "112/112 [==============================] - 0s 268us/step - loss: 0.6930 - accuracy: 0.5089\n",
      "Epoch 52/100\n",
      "112/112 [==============================] - 0s 304us/step - loss: 0.6930 - accuracy: 0.5089\n",
      "Epoch 53/100\n",
      "112/112 [==============================] - 0s 268us/step - loss: 0.6930 - accuracy: 0.5089\n",
      "Epoch 54/100\n",
      "112/112 [==============================] - 0s 295us/step - loss: 0.6930 - accuracy: 0.5089\n",
      "Epoch 55/100\n",
      "112/112 [==============================] - 0s 286us/step - loss: 0.6930 - accuracy: 0.5089\n",
      "Epoch 56/100\n",
      "112/112 [==============================] - 0s 241us/step - loss: 0.6930 - accuracy: 0.5089\n",
      "Epoch 57/100\n",
      "112/112 [==============================] - 0s 286us/step - loss: 0.6930 - accuracy: 0.5089\n",
      "Epoch 58/100\n",
      "112/112 [==============================] - 0s 232us/step - loss: 0.6930 - accuracy: 0.5089\n",
      "Epoch 59/100\n",
      "112/112 [==============================] - 0s 259us/step - loss: 0.6931 - accuracy: 0.5089\n",
      "Epoch 60/100\n",
      "112/112 [==============================] - 0s 241us/step - loss: 0.6930 - accuracy: 0.5089\n",
      "Epoch 61/100\n",
      "112/112 [==============================] - 0s 268us/step - loss: 0.6930 - accuracy: 0.5089\n",
      "Epoch 62/100\n",
      "112/112 [==============================] - 0s 286us/step - loss: 0.6930 - accuracy: 0.5089\n",
      "Epoch 63/100\n",
      "112/112 [==============================] - 0s 256us/step - loss: 0.6930 - accuracy: 0.5089\n",
      "Epoch 64/100\n",
      "112/112 [==============================] - 0s 286us/step - loss: 0.6930 - accuracy: 0.5089\n",
      "Epoch 65/100\n",
      "112/112 [==============================] - 0s 232us/step - loss: 0.6930 - accuracy: 0.5089\n",
      "Epoch 66/100\n",
      "112/112 [==============================] - 0s 241us/step - loss: 0.6930 - accuracy: 0.5089\n",
      "Epoch 67/100\n",
      "112/112 [==============================] - 0s 277us/step - loss: 0.6930 - accuracy: 0.5089\n",
      "Epoch 68/100\n",
      "112/112 [==============================] - 0s 232us/step - loss: 0.6930 - accuracy: 0.5089\n",
      "Epoch 69/100\n",
      "112/112 [==============================] - 0s 268us/step - loss: 0.6931 - accuracy: 0.5089\n",
      "Epoch 70/100\n",
      "112/112 [==============================] - 0s 241us/step - loss: 0.6930 - accuracy: 0.5089\n",
      "Epoch 71/100\n",
      "112/112 [==============================] - 0s 250us/step - loss: 0.6930 - accuracy: 0.5089\n",
      "Epoch 72/100\n",
      "112/112 [==============================] - 0s 277us/step - loss: 0.6930 - accuracy: 0.5089\n",
      "Epoch 73/100\n",
      "112/112 [==============================] - 0s 277us/step - loss: 0.6931 - accuracy: 0.5089\n",
      "Epoch 74/100\n",
      "112/112 [==============================] - 0s 268us/step - loss: 0.6930 - accuracy: 0.5089\n",
      "Epoch 75/100\n",
      "112/112 [==============================] - 0s 295us/step - loss: 0.6930 - accuracy: 0.5089\n",
      "Epoch 76/100\n",
      "112/112 [==============================] - 0s 286us/step - loss: 0.6930 - accuracy: 0.5089\n",
      "Epoch 77/100\n",
      "112/112 [==============================] - 0s 259us/step - loss: 0.6931 - accuracy: 0.5089\n",
      "Epoch 78/100\n",
      "112/112 [==============================] - 0s 277us/step - loss: 0.6930 - accuracy: 0.5089\n",
      "Epoch 79/100\n"
     ]
    },
    {
     "name": "stdout",
     "output_type": "stream",
     "text": [
      "112/112 [==============================] - 0s 268us/step - loss: 0.6930 - accuracy: 0.5089\n",
      "Epoch 80/100\n",
      "112/112 [==============================] - 0s 321us/step - loss: 0.6930 - accuracy: 0.5089\n",
      "Epoch 81/100\n",
      "112/112 [==============================] - 0s 259us/step - loss: 0.6930 - accuracy: 0.5089\n",
      "Epoch 82/100\n",
      "112/112 [==============================] - 0s 268us/step - loss: 0.6930 - accuracy: 0.5089\n",
      "Epoch 83/100\n",
      "112/112 [==============================] - 0s 268us/step - loss: 0.6930 - accuracy: 0.5089\n",
      "Epoch 84/100\n",
      "112/112 [==============================] - 0s 250us/step - loss: 0.6930 - accuracy: 0.5089\n",
      "Epoch 85/100\n",
      "112/112 [==============================] - 0s 241us/step - loss: 0.6930 - accuracy: 0.5089\n",
      "Epoch 86/100\n",
      "112/112 [==============================] - 0s 250us/step - loss: 0.6930 - accuracy: 0.5089\n",
      "Epoch 87/100\n",
      "112/112 [==============================] - 0s 250us/step - loss: 0.6930 - accuracy: 0.5089\n",
      "Epoch 88/100\n",
      "112/112 [==============================] - 0s 268us/step - loss: 0.6930 - accuracy: 0.5089\n",
      "Epoch 89/100\n",
      "112/112 [==============================] - 0s 295us/step - loss: 0.6930 - accuracy: 0.5089\n",
      "Epoch 90/100\n",
      "112/112 [==============================] - 0s 250us/step - loss: 0.6930 - accuracy: 0.5089\n",
      "Epoch 91/100\n",
      "112/112 [==============================] - 0s 277us/step - loss: 0.6930 - accuracy: 0.5089\n",
      "Epoch 92/100\n",
      "112/112 [==============================] - 0s 259us/step - loss: 0.6930 - accuracy: 0.5089\n",
      "Epoch 93/100\n",
      "112/112 [==============================] - 0s 250us/step - loss: 0.6930 - accuracy: 0.5089\n",
      "Epoch 94/100\n",
      "112/112 [==============================] - 0s 241us/step - loss: 0.6930 - accuracy: 0.5089\n",
      "Epoch 95/100\n",
      "112/112 [==============================] - 0s 241us/step - loss: 0.6930 - accuracy: 0.5089\n",
      "Epoch 96/100\n",
      "112/112 [==============================] - 0s 268us/step - loss: 0.6930 - accuracy: 0.5089\n",
      "Epoch 97/100\n",
      "112/112 [==============================] - 0s 250us/step - loss: 0.6930 - accuracy: 0.5089\n",
      "Epoch 98/100\n",
      "112/112 [==============================] - 0s 250us/step - loss: 0.6931 - accuracy: 0.5089\n",
      "Epoch 99/100\n",
      "112/112 [==============================] - 0s 232us/step - loss: 0.6930 - accuracy: 0.5089\n",
      "Epoch 100/100\n",
      "112/112 [==============================] - 0s 259us/step - loss: 0.6930 - accuracy: 0.5089\n"
     ]
    },
    {
     "data": {
      "text/plain": [
       "<keras.callbacks.callbacks.History at 0x1782acc9dd8>"
      ]
     },
     "execution_count": 47,
     "metadata": {},
     "output_type": "execute_result"
    }
   ],
   "source": [
    "classifier.fit(X_train, y_train, batch_size = 10, epochs = 100)\n"
   ]
  },
  {
   "cell_type": "code",
   "execution_count": 49,
   "metadata": {},
   "outputs": [],
   "source": [
    "y_pred=classifier.predict(X_test)\n",
    "y_pred=(y_pred>0.5)"
   ]
  },
  {
   "cell_type": "code",
   "execution_count": 51,
   "metadata": {},
   "outputs": [],
   "source": [
    "from sklearn.metrics import confusion_matrix\n",
    "cm=confusion_matrix(y_test,y_pred)"
   ]
  },
  {
   "cell_type": "code",
   "execution_count": 52,
   "metadata": {},
   "outputs": [
    {
     "name": "stdout",
     "output_type": "stream",
     "text": [
      "[0 1 1 0 1 0 1 0 0 1 1 0 1 0 1 0 1 0 0 0 1 1 1 0 1 1 0 0 0 1 1 1 0 1 1 0 0\n",
      " 0]\n"
     ]
    }
   ],
   "source": [
    "print(y_test)"
   ]
  },
  {
   "cell_type": "code",
   "execution_count": 53,
   "metadata": {},
   "outputs": [
    {
     "name": "stdout",
     "output_type": "stream",
     "text": [
      "[[ True]\n",
      " [ True]\n",
      " [ True]\n",
      " [ True]\n",
      " [ True]\n",
      " [ True]\n",
      " [ True]\n",
      " [ True]\n",
      " [ True]\n",
      " [ True]\n",
      " [ True]\n",
      " [ True]\n",
      " [ True]\n",
      " [ True]\n",
      " [ True]\n",
      " [ True]\n",
      " [ True]\n",
      " [ True]\n",
      " [ True]\n",
      " [ True]\n",
      " [ True]\n",
      " [ True]\n",
      " [ True]\n",
      " [ True]\n",
      " [ True]\n",
      " [ True]\n",
      " [ True]\n",
      " [ True]\n",
      " [ True]\n",
      " [ True]\n",
      " [ True]\n",
      " [ True]\n",
      " [ True]\n",
      " [ True]\n",
      " [ True]\n",
      " [ True]\n",
      " [ True]\n",
      " [ True]]\n"
     ]
    }
   ],
   "source": [
    "print(y_pred)"
   ]
  },
  {
   "cell_type": "code",
   "execution_count": null,
   "metadata": {},
   "outputs": [],
   "source": [
    "new_prediction=classfier.predict(sc.transform(np.array([-11,-20,-3,4])))\n",
    "new_prediction=(new_prediction>0.5)"
   ]
  }
 ],
 "metadata": {
  "kernelspec": {
   "display_name": "Python 3",
   "language": "python",
   "name": "python3"
  },
  "language_info": {
   "codemirror_mode": {
    "name": "ipython",
    "version": 3
   },
   "file_extension": ".py",
   "mimetype": "text/x-python",
   "name": "python",
   "nbconvert_exporter": "python",
   "pygments_lexer": "ipython3",
   "version": "3.7.3"
  }
 },
 "nbformat": 4,
 "nbformat_minor": 2
}
